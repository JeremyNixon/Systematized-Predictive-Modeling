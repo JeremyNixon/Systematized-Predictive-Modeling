{
 "cells": [
  {
   "cell_type": "code",
   "execution_count": 2,
   "metadata": {
    "collapsed": false
   },
   "outputs": [
    {
     "name": "stdout",
     "output_type": "stream",
     "text": [
      "0.625 xgboost_predictions\n",
      "0.65 booster_predictions\n",
      "0.65 forest_predictions\n",
      "0.68125 erf_predictions\n",
      "0.56875 logistic_predictions\n",
      "0.559375 lda_predictions\n",
      "0.55625 qda_predictions\n",
      "<bound method apm.xgboost of <automated_predictive_modeling.apm instance at 0x10ef8ab48>>\n",
      "<bound method apm.gradient_booster of <automated_predictive_modeling.apm instance at 0x10ef8ab48>>\n",
      "<bound method apm.random_forest of <automated_predictive_modeling.apm instance at 0x10ef8ab48>>\n",
      "<bound method apm.extremely_random_forest of <automated_predictive_modeling.apm instance at 0x10ef8ab48>>\n",
      "<bound method apm.logistic_regression of <automated_predictive_modeling.apm instance at 0x10ef8ab48>>\n",
      "<bound method apm.lda of <automated_predictive_modeling.apm instance at 0x10ef8ab48>>\n",
      "<bound method apm.qda of <automated_predictive_modeling.apm instance at 0x10ef8ab48>>\n",
      "0.625['xgboost_predictions']\n",
      "0.65['booster_predictions']\n",
      "0.68125['erf_predictions']\n",
      "0.69375['booster_predictions', 'erf_predictions', 'erf_on_stack']\n",
      "Time Elapsed = 0h 0m 24s\n"
     ]
    },
    {
     "name": "stderr",
     "output_type": "stream",
     "text": [
      "/Users/jnoxon/anaconda/lib/python2.7/site-packages/sklearn/discriminant_analysis.py:455: UserWarning: The priors do not sum to 1. Renormalizing\n",
      "  UserWarning)\n",
      "/Users/jnoxon/anaconda/lib/python2.7/site-packages/sklearn/discriminant_analysis.py:690: UserWarning: Variables are collinear\n",
      "  warnings.warn(\"Variables are collinear\")\n"
     ]
    }
   ],
   "source": [
    "import automated_predictive_modeling as pm\n",
    "import pandas as pd\n",
    "import numpy as np\n",
    "df = pd.read_csv(\"winequality-red.csv\", sep=';')\n",
    "Y = df['quality'].values\n",
    "df = df.drop('quality',1)\n",
    "problem = pm.apm(df, Y, task='classification', hyperparameters='default')\n",
    "predictions = problem.predict()"
   ]
  },
  {
   "cell_type": "code",
   "execution_count": null,
   "metadata": {
    "collapsed": false
   },
   "outputs": [],
   "source": [
    "\n",
    "# x_train, x_test, y_train, y_test = sklearn.cross_validation.train_test_split(df, Y, test_size = .20, random_state=42)"
   ]
  },
  {
   "cell_type": "code",
   "execution_count": null,
   "metadata": {
    "collapsed": false
   },
   "outputs": [],
   "source": []
  },
  {
   "cell_type": "code",
   "execution_count": null,
   "metadata": {
    "collapsed": true
   },
   "outputs": [],
   "source": []
  },
  {
   "cell_type": "code",
   "execution_count": null,
   "metadata": {
    "collapsed": true
   },
   "outputs": [],
   "source": []
  }
 ],
 "metadata": {
  "kernelspec": {
   "display_name": "Python 2",
   "language": "python",
   "name": "python2"
  },
  "language_info": {
   "codemirror_mode": {
    "name": "ipython",
    "version": 2
   },
   "file_extension": ".py",
   "mimetype": "text/x-python",
   "name": "python",
   "nbconvert_exporter": "python",
   "pygments_lexer": "ipython2",
   "version": "2.7.11"
  }
 },
 "nbformat": 4,
 "nbformat_minor": 0
}
